{
  "nbformat": 4,
  "nbformat_minor": 0,
  "metadata": {
    "colab": {
      "provenance": []
    },
    "kernelspec": {
      "name": "python3",
      "display_name": "Python 3"
    },
    "language_info": {
      "name": "python"
    }
  },
  "cells": [
    {
      "cell_type": "code",
      "source": [
        "!pip install pytesseract\n",
        "!sudo apt install tesseract-ocr\n",
        "!pip install Pillow\n",
        "!pip install markdown"
      ],
      "metadata": {
        "colab": {
          "base_uri": "https://localhost:8080/"
        },
        "id": "9NdHogUtPBIY",
        "outputId": "911527ca-ec70-4891-c2e1-193069628f76"
      },
      "execution_count": 27,
      "outputs": [
        {
          "output_type": "stream",
          "name": "stdout",
          "text": [
            "Requirement already satisfied: pytesseract in /usr/local/lib/python3.10/dist-packages (0.3.13)\n",
            "Requirement already satisfied: packaging>=21.3 in /usr/local/lib/python3.10/dist-packages (from pytesseract) (24.2)\n",
            "Requirement already satisfied: Pillow>=8.0.0 in /usr/local/lib/python3.10/dist-packages (from pytesseract) (11.0.0)\n",
            "Reading package lists... Done\n",
            "Building dependency tree... Done\n",
            "Reading state information... Done\n",
            "tesseract-ocr is already the newest version (4.1.1-2.1build1).\n",
            "0 upgraded, 0 newly installed, 0 to remove and 49 not upgraded.\n",
            "Requirement already satisfied: Pillow in /usr/local/lib/python3.10/dist-packages (11.0.0)\n",
            "Requirement already satisfied: markdown in /usr/local/lib/python3.10/dist-packages (3.7)\n"
          ]
        }
      ]
    },
    {
      "cell_type": "code",
      "source": [
        "import requests\n",
        "from PIL import Image\n",
        "from io import BytesIO\n",
        "import pytesseract\n",
        "import json\n",
        "import IPython\n",
        "from markdown import markdown\n",
        "# Fungsi untuk menampilkan output Markdown\n",
        "Markdown = lambda string: IPython.display.HTML(markdown(string))\n",
        "from google.colab import userdata"
      ],
      "metadata": {
        "id": "IbIYyRNlSeSf"
      },
      "execution_count": 51,
      "outputs": []
    },
    {
      "cell_type": "code",
      "source": [
        "\n",
        "\n",
        "def download_image(image_url):\n",
        "    \"\"\"\n",
        "    Download image from a given URL.\n",
        "\n",
        "    Args:\n",
        "        image_url (str): URL of the image.\n",
        "\n",
        "    Returns:\n",
        "        Image object if successful, None otherwise.\n",
        "    \"\"\"\n",
        "    try:\n",
        "        response = requests.get(image_url, stream=True)\n",
        "        response.raise_for_status()  # Check for HTTP request errors\n",
        "        return Image.open(BytesIO(response.content))\n",
        "    except requests.exceptions.RequestException as e:\n",
        "        print(f\"Error downloading image: {e}\")\n",
        "        return None\n",
        "\n",
        "def perform_ocr(image):\n",
        "    \"\"\"\n",
        "    Perform OCR on the provided image.\n",
        "\n",
        "    Args:\n",
        "        image (Image): PIL Image object.\n",
        "\n",
        "    Returns:\n",
        "        str: Extracted text from the image.\n",
        "    \"\"\"\n",
        "    try:\n",
        "        return pytesseract.image_to_string(image).strip()\n",
        "    except Exception as e:\n",
        "        print(f\"Error during OCR: {e}\")\n",
        "        return \"\"\n",
        "\n",
        "def send_to_cloudflare_ai(model, image_url, prompt, bearer,user_id):\n",
        "    \"\"\"\n",
        "    Send data to Cloudflare AI Worker.\n",
        "\n",
        "    Args:\n",
        "        model (str): AI model to use.\n",
        "        image_url (str): URL of the image.\n",
        "        prompt (str): Text prompt or message to accompany the image.\n",
        "\n",
        "    Returns:\n",
        "        dict: JSON response from the Cloudflare AI Worker.\n",
        "    \"\"\"\n",
        "    url = f\"https://api.cloudflare.com/client/v4/accounts/{user_id}/ai/run/{model}\"\n",
        "    headers = {\n",
        "        \"Authorization\": f\"Bearer {bearer}\",\n",
        "        \"Content-Type\": \"application/json\",\n",
        "    }\n",
        "    data = {\n",
        "        \"messages\": [\n",
        "            {\n",
        "                \"role\": \"system\",\n",
        "                \"content\": \"kamu adalah assistent pribadi ku yang bisa melakukan coding standart\"\n",
        "            },\n",
        "            {\n",
        "                \"role\": \"user\",\n",
        "                \"content\": prompt,\n",
        "                \"image\": {\n",
        "                    \"url\": image_url\n",
        "                }\n",
        "            }\n",
        "        ]\n",
        "    }\n",
        "    try:\n",
        "        response = requests.post(url, headers=headers, json=data)\n",
        "        response.raise_for_status()\n",
        "        return response.json()\n",
        "    except requests.exceptions.RequestException as e:\n",
        "        print(f\"Error sending data to Cloudflare AI: {e}\")\n",
        "        return {\"error\": str(e)}\n",
        "\n",
        "def simple_rag(model, image_url, prompt=None, bearer=None, user_id=None):\n",
        "    \"\"\"\n",
        "    Perform OCR on an image and send data to Cloudflare AI Worker.\n",
        "\n",
        "    Args:\n",
        "        model (str): AI model to use.\n",
        "        image_url (str): URL of the image to process.\n",
        "        prompt (str): Optional text prompt.\n",
        "        bearer (str): Require bearer Token for auth.\n",
        "        user_id (str): Cloudflare Account ID.\n",
        "\n",
        "    Returns:\n",
        "        dict: JSON response from the AI worker or an error message.\n",
        "    \"\"\"\n",
        "    image = download_image(image_url)\n",
        "    if not image:\n",
        "        return {\"error\": \"Failed to download image.\"}\n",
        "\n",
        "    extracted_text = perform_ocr(image)\n",
        "    combined_prompt = prompt or \"\"\n",
        "    if extracted_text:\n",
        "        combined_prompt = f\"{combined_prompt}\\nExtracted text from image:\\n{extracted_text}\".strip()\n",
        "\n",
        "    response = send_to_cloudflare_ai(model, image_url, combined_prompt, bearer, user_id)\n",
        "    return response\n",
        "\n",
        "def format_output(result, template):\n",
        "    \"\"\"\n",
        "    Format the output based on the specified template.\n",
        "\n",
        "    Args:\n",
        "        result (dict): JSON response from the AI worker.\n",
        "        template (str): The desired template format (raw, json, text, markdown).\n",
        "    \"\"\"\n",
        "    response = result.get(\"result\", {}).get(\"response\", \"\")\n",
        "\n",
        "    if template == \"raw\":\n",
        "        print(response)\n",
        "\n",
        "    elif template == \"json\":\n",
        "        print(json.dumps({\"response\": response}, indent=4))\n",
        "\n",
        "    elif template == \"text\":\n",
        "        print(response)\n",
        "\n",
        "    elif template == \"markdown\":\n",
        "        return Markdown(response)\n",
        "\n",
        "    else:\n",
        "        print(\"Invalid template format specified.\")"
      ],
      "metadata": {
        "id": "kEN5PVHpUBIO"
      },
      "execution_count": 61,
      "outputs": []
    },
    {
      "cell_type": "code",
      "source": [
        "if __name__ == \"__main__\":\n",
        "    model = \"@cf/google/gemma-7b-it-lora\"\n",
        "    image_url = \"https://i.ibb.co/Jt3Bb4V/image.png\"\n",
        "    prompt = \"Analyze the content of this image and provide insights.\"\n",
        "    bearer = userdata.get('bearer')\n",
        "    user_id = userdata.get('user_id')\n",
        "\n",
        "    result = simple_rag(model, image_url, prompt, bearer, user_id)"
      ],
      "metadata": {
        "id": "HI0r79HtrROV"
      },
      "execution_count": 79,
      "outputs": []
    },
    {
      "cell_type": "code",
      "source": [
        "format_output(result,\"raw\")"
      ],
      "metadata": {
        "colab": {
          "base_uri": "https://localhost:8080/"
        },
        "id": "0adCQXrRpgY-",
        "outputId": "ff5d230b-4d5f-470c-e058-58daa1432847"
      },
      "execution_count": 80,
      "outputs": [
        {
          "output_type": "stream",
          "name": "stdout",
          "text": [
            "## Analysis of Image Text Content\n",
            "\n",
            "This image text describes two PHP errors encountered while executing code. It provides details for each error, including:\n",
            "\n",
            "**Error 1:**\n",
            "\n",
            "* **Error Message:** \"A PHP Error was encountered. Seventy: Warning - Mossage:ini_set(): A session is active. You cannot change the session medule's in settings at this time\"\n",
            "* **Filename:** \"Session/Session php\"\n",
            "* **Line Number:** 284\n",
            "* **Bockeroce:** The text points to the specific file ('Session/Session php') and line number (284) where the error occurred.\n",
            "* **Function:** Not specified in this text snippet.\n",
            "\n",
            "**Error 2:**\n",
            "\n",
            "* **Error Message:** \"AHP Error was encountered. Severty: Warning - Message: session_set .cookie_porams(): Cannot change session cookie parameters when session is active\"\n",
            "* **Filename:** \"Session/Session php\"\n",
            "* **Line Number:** 298\n",
            "* **Bocktroce:** This error also points to the same file and line number as the first error.\n",
            "* **Function:** Not specified in this text snippet.\n",
            "\n",
            "**Insights:**\n",
            "\n",
            "These errors occur due to the active session. In PHP, sessions are used to store temporary data for a user during a browsing session. Modifying session settings or cookie parameters is not allowed when a session is active.\n",
            "\n",
            "The text provides clear information about the errors, including the error messages, filenames, line numbers, and the specific functions where they occurred. This information is helpful for debugging and troubleshooting the code.\n",
            "\n",
            "**Additional Notes:**\n",
            "\n",
            "* The text does not specify the code context or the specific actions that led to the errors. Therefore, it is difficult to fully understand the issue without additional information.\n",
            "* The text does not provide any solutions or suggestions for fixing the errors.\n"
          ]
        }
      ]
    },
    {
      "cell_type": "code",
      "source": [
        "format_output(result,\"json\")"
      ],
      "metadata": {
        "colab": {
          "base_uri": "https://localhost:8080/"
        },
        "id": "NKDufS_qpkGt",
        "outputId": "6c885ae5-f91b-48d2-fb66-183fb9027d6c"
      },
      "execution_count": 81,
      "outputs": [
        {
          "output_type": "stream",
          "name": "stdout",
          "text": [
            "{\n",
            "    \"response\": \"## Analysis of Image Text Content\\n\\nThis image text describes two PHP errors encountered while executing code. It provides details for each error, including:\\n\\n**Error 1:**\\n\\n* **Error Message:** \\\"A PHP Error was encountered. Seventy: Warning - Mossage:ini_set(): A session is active. You cannot change the session medule's in settings at this time\\\"\\n* **Filename:** \\\"Session/Session php\\\"\\n* **Line Number:** 284\\n* **Bockeroce:** The text points to the specific file ('Session/Session php') and line number (284) where the error occurred.\\n* **Function:** Not specified in this text snippet.\\n\\n**Error 2:**\\n\\n* **Error Message:** \\\"AHP Error was encountered. Severty: Warning - Message: session_set .cookie_porams(): Cannot change session cookie parameters when session is active\\\"\\n* **Filename:** \\\"Session/Session php\\\"\\n* **Line Number:** 298\\n* **Bocktroce:** This error also points to the same file and line number as the first error.\\n* **Function:** Not specified in this text snippet.\\n\\n**Insights:**\\n\\nThese errors occur due to the active session. In PHP, sessions are used to store temporary data for a user during a browsing session. Modifying session settings or cookie parameters is not allowed when a session is active.\\n\\nThe text provides clear information about the errors, including the error messages, filenames, line numbers, and the specific functions where they occurred. This information is helpful for debugging and troubleshooting the code.\\n\\n**Additional Notes:**\\n\\n* The text does not specify the code context or the specific actions that led to the errors. Therefore, it is difficult to fully understand the issue without additional information.\\n* The text does not provide any solutions or suggestions for fixing the errors.\"\n",
            "}\n"
          ]
        }
      ]
    },
    {
      "cell_type": "code",
      "source": [
        "format_output(result,\"markdown\")"
      ],
      "metadata": {
        "colab": {
          "base_uri": "https://localhost:8080/",
          "height": 491
        },
        "id": "mEBbOm-kpoOp",
        "outputId": "2b34c187-b7ce-49a3-b4f0-5e58e3d59af9"
      },
      "execution_count": 82,
      "outputs": [
        {
          "output_type": "execute_result",
          "data": {
            "text/plain": [
              "<IPython.core.display.HTML object>"
            ],
            "text/html": [
              "<h2>Analysis of Image Text Content</h2>\n",
              "<p>This image text describes two PHP errors encountered while executing code. It provides details for each error, including:</p>\n",
              "<p><strong>Error 1:</strong></p>\n",
              "<ul>\n",
              "<li><strong>Error Message:</strong> \"A PHP Error was encountered. Seventy: Warning - Mossage:ini_set(): A session is active. You cannot change the session medule's in settings at this time\"</li>\n",
              "<li><strong>Filename:</strong> \"Session/Session php\"</li>\n",
              "<li><strong>Line Number:</strong> 284</li>\n",
              "<li><strong>Bockeroce:</strong> The text points to the specific file ('Session/Session php') and line number (284) where the error occurred.</li>\n",
              "<li><strong>Function:</strong> Not specified in this text snippet.</li>\n",
              "</ul>\n",
              "<p><strong>Error 2:</strong></p>\n",
              "<ul>\n",
              "<li><strong>Error Message:</strong> \"AHP Error was encountered. Severty: Warning - Message: session_set .cookie_porams(): Cannot change session cookie parameters when session is active\"</li>\n",
              "<li><strong>Filename:</strong> \"Session/Session php\"</li>\n",
              "<li><strong>Line Number:</strong> 298</li>\n",
              "<li><strong>Bocktroce:</strong> This error also points to the same file and line number as the first error.</li>\n",
              "<li><strong>Function:</strong> Not specified in this text snippet.</li>\n",
              "</ul>\n",
              "<p><strong>Insights:</strong></p>\n",
              "<p>These errors occur due to the active session. In PHP, sessions are used to store temporary data for a user during a browsing session. Modifying session settings or cookie parameters is not allowed when a session is active.</p>\n",
              "<p>The text provides clear information about the errors, including the error messages, filenames, line numbers, and the specific functions where they occurred. This information is helpful for debugging and troubleshooting the code.</p>\n",
              "<p><strong>Additional Notes:</strong></p>\n",
              "<ul>\n",
              "<li>The text does not specify the code context or the specific actions that led to the errors. Therefore, it is difficult to fully understand the issue without additional information.</li>\n",
              "<li>The text does not provide any solutions or suggestions for fixing the errors.</li>\n",
              "</ul>"
            ]
          },
          "metadata": {},
          "execution_count": 82
        }
      ]
    }
  ]
}